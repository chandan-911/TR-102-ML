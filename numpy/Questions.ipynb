{
 "cells": [
  {
   "cell_type": "code",
   "execution_count": 1,
   "id": "3784fea4-609b-45d4-a4bf-6e7db65b9960",
   "metadata": {},
   "outputs": [],
   "source": [
    "import numpy as np\n"
   ]
  },
  {
   "cell_type": "code",
   "execution_count": null,
   "id": "b6cdcb7a-2956-46fe-be1d-35c58ff79419",
   "metadata": {},
   "outputs": [],
   "source": [
    "# ques1  \n",
    "# Define a NumPy array with the numbers 0 through 9 and reshape it into a 3x3 array. Calculate the cumulative sum along each row."
   ]
  },
  {
   "cell_type": "code",
   "execution_count": 3,
   "id": "22be0feb-6335-46d3-8b93-6a522dad070e",
   "metadata": {},
   "outputs": [],
   "source": [
    "ax=np.arange(9)"
   ]
  },
  {
   "cell_type": "code",
   "execution_count": 4,
   "id": "1569d0a0-1ce1-4195-897d-bd10b325c476",
   "metadata": {},
   "outputs": [
    {
     "data": {
      "text/plain": [
       "array([0, 1, 2, 3, 4, 5, 6, 7, 8])"
      ]
     },
     "execution_count": 4,
     "metadata": {},
     "output_type": "execute_result"
    }
   ],
   "source": [
    "ax"
   ]
  },
  {
   "cell_type": "code",
   "execution_count": 5,
   "id": "e11ce2da-712b-41b0-a8a5-8e9959043bd2",
   "metadata": {},
   "outputs": [],
   "source": [
    "sd=ax.reshape(3,3)"
   ]
  },
  {
   "cell_type": "code",
   "execution_count": 6,
   "id": "bb4a1780-6028-4c34-a8f3-4d739eeeccbf",
   "metadata": {},
   "outputs": [
    {
     "data": {
      "text/plain": [
       "array([[0, 1, 2],\n",
       "       [3, 4, 5],\n",
       "       [6, 7, 8]])"
      ]
     },
     "execution_count": 6,
     "metadata": {},
     "output_type": "execute_result"
    }
   ],
   "source": [
    "sd"
   ]
  },
  {
   "cell_type": "code",
   "execution_count": 7,
   "id": "557456d9-895e-40b3-883f-f9032460f150",
   "metadata": {},
   "outputs": [],
   "source": [
    "df=np.cumsum(sd,axis=1)"
   ]
  },
  {
   "cell_type": "code",
   "execution_count": 8,
   "id": "33b20942-1314-465c-b9c9-ac65680e690a",
   "metadata": {},
   "outputs": [
    {
     "data": {
      "text/plain": [
       "array([[ 0,  1,  3],\n",
       "       [ 3,  7, 12],\n",
       "       [ 6, 13, 21]])"
      ]
     },
     "execution_count": 8,
     "metadata": {},
     "output_type": "execute_result"
    }
   ],
   "source": [
    "df"
   ]
  },
  {
   "cell_type": "code",
   "execution_count": 9,
   "id": "d29d3d56-797e-4279-919b-8712650c5c72",
   "metadata": {},
   "outputs": [],
   "source": [
    "# qyes 2\n",
    "# Generate a 4x4 NumPy array with random integers between 1 and 100. Replace all even numbers with 0 and odd numbers with 1."
   ]
  },
  {
   "cell_type": "code",
   "execution_count": 53,
   "id": "ed0e5984-9b8b-4d13-a3b3-2b5cf36dc577",
   "metadata": {},
   "outputs": [],
   "source": [
    "ad=np.random.randint(0,100,(4,4))"
   ]
  },
  {
   "cell_type": "code",
   "execution_count": 18,
   "id": "4000021f-8f3d-464d-a7a7-0da22d307510",
   "metadata": {},
   "outputs": [
    {
     "data": {
      "text/plain": [
       "array([[14, 20, 16, 28],\n",
       "       [48, 58, 21, 84],\n",
       "       [32,  9,  5, 90],\n",
       "       [23, 57, 80, 40]])"
      ]
     },
     "execution_count": 18,
     "metadata": {},
     "output_type": "execute_result"
    }
   ],
   "source": [
    "ad"
   ]
  },
  {
   "cell_type": "code",
   "execution_count": 19,
   "id": "973d03e0-9d29-4eac-81e9-a1acdc82fb80",
   "metadata": {},
   "outputs": [
    {
     "data": {
      "text/plain": [
       "array([[0, 0, 0, 0],\n",
       "       [0, 0, 1, 0],\n",
       "       [0, 1, 1, 0],\n",
       "       [1, 1, 0, 0]])"
      ]
     },
     "execution_count": 19,
     "metadata": {},
     "output_type": "execute_result"
    }
   ],
   "source": [
    "np.where(ad%2==0,0,1)"
   ]
  },
  {
   "cell_type": "code",
   "execution_count": 20,
   "id": "261688a4-e5bd-428c-ba55-41125d2d2649",
   "metadata": {},
   "outputs": [],
   "source": [
    "# ques 3\n",
    "# Create a NumPy array with the elements [\"apple\", \"banana\", \"cherry\"] and then find the index of the element \"banana\"."
   ]
  },
  {
   "cell_type": "code",
   "execution_count": 21,
   "id": "d049247e-b711-415a-83de-b75f5cc64adc",
   "metadata": {},
   "outputs": [],
   "source": [
    "arr=np.array([\"apple\", \"banana\", \"cherry\"])"
   ]
  },
  {
   "cell_type": "code",
   "execution_count": 22,
   "id": "b02f75a2-e5df-4ae0-91c3-d211007adfc4",
   "metadata": {},
   "outputs": [
    {
     "data": {
      "text/plain": [
       "array(['apple', 'banana', 'cherry'], dtype='<U6')"
      ]
     },
     "execution_count": 22,
     "metadata": {},
     "output_type": "execute_result"
    }
   ],
   "source": [
    "arr"
   ]
  },
  {
   "cell_type": "code",
   "execution_count": 29,
   "id": "089db82b-caa1-45b7-8227-fa9a1f128d42",
   "metadata": {},
   "outputs": [
    {
     "data": {
      "text/plain": [
       "(array([1]),)"
      ]
     },
     "execution_count": 29,
     "metadata": {},
     "output_type": "execute_result"
    }
   ],
   "source": [
    "np.where(arr==\"banana\")"
   ]
  },
  {
   "cell_type": "code",
   "execution_count": null,
   "id": "f70dee18-8c22-45bd-8b31-1f60d54c80a2",
   "metadata": {},
   "outputs": [],
   "source": [
    "# only practice"
   ]
  },
  {
   "cell_type": "code",
   "execution_count": 30,
   "id": "06302e6e-d33b-4631-beef-af32a48e4572",
   "metadata": {},
   "outputs": [],
   "source": [
    "ax=np.array([2,3,4,5,5,6,7,7,8,0,5,3])"
   ]
  },
  {
   "cell_type": "code",
   "execution_count": 31,
   "id": "19fca923-fb71-42e2-ab94-37b0c2486a52",
   "metadata": {},
   "outputs": [
    {
     "data": {
      "text/plain": [
       "array([2, 3, 4, 5, 5, 6, 7, 7, 8, 0, 5, 3])"
      ]
     },
     "execution_count": 31,
     "metadata": {},
     "output_type": "execute_result"
    }
   ],
   "source": [
    "ax"
   ]
  },
  {
   "cell_type": "code",
   "execution_count": 33,
   "id": "65ac07c4-e878-4a74-93be-a920e92da3a1",
   "metadata": {},
   "outputs": [
    {
     "data": {
      "text/plain": [
       "(array([ 3,  4, 10]),)"
      ]
     },
     "execution_count": 33,
     "metadata": {},
     "output_type": "execute_result"
    }
   ],
   "source": [
    "np.where(ax==5)"
   ]
  },
  {
   "cell_type": "code",
   "execution_count": 34,
   "id": "e1e3086d-de30-4c84-9ea4-c5db092cf876",
   "metadata": {},
   "outputs": [],
   "source": [
    "# ques 4\n",
    "# Define a NumPy array containing the numbers 1 through 20 and reshape it into a 4x5 array. Compute the mean of each row"
   ]
  },
  {
   "cell_type": "code",
   "execution_count": 35,
   "id": "2473b9c7-3c5e-423c-834e-649081ef22e8",
   "metadata": {},
   "outputs": [],
   "source": [
    "sd=np.arange(20)"
   ]
  },
  {
   "cell_type": "code",
   "execution_count": 36,
   "id": "dd366af5-1fe9-4152-a7b0-ca6641b9828a",
   "metadata": {},
   "outputs": [
    {
     "data": {
      "text/plain": [
       "array([ 0,  1,  2,  3,  4,  5,  6,  7,  8,  9, 10, 11, 12, 13, 14, 15, 16,\n",
       "       17, 18, 19])"
      ]
     },
     "execution_count": 36,
     "metadata": {},
     "output_type": "execute_result"
    }
   ],
   "source": [
    "sd"
   ]
  },
  {
   "cell_type": "code",
   "execution_count": 38,
   "id": "988149c0-2411-4d2b-9e84-df226c118140",
   "metadata": {},
   "outputs": [],
   "source": [
    "we=sd.reshape(4,5)"
   ]
  },
  {
   "cell_type": "code",
   "execution_count": 39,
   "id": "baa6438e-0b35-4f66-9d5e-83f2b91aa3f5",
   "metadata": {},
   "outputs": [
    {
     "data": {
      "text/plain": [
       "array([[ 0,  1,  2,  3,  4],\n",
       "       [ 5,  6,  7,  8,  9],\n",
       "       [10, 11, 12, 13, 14],\n",
       "       [15, 16, 17, 18, 19]])"
      ]
     },
     "execution_count": 39,
     "metadata": {},
     "output_type": "execute_result"
    }
   ],
   "source": [
    "we"
   ]
  },
  {
   "cell_type": "code",
   "execution_count": 45,
   "id": "f3afc1bb-de90-4f9c-bfd1-5e6d973a7453",
   "metadata": {},
   "outputs": [],
   "source": [
    "fg=np.mean(we,axis=1)"
   ]
  },
  {
   "cell_type": "code",
   "execution_count": 46,
   "id": "c8061812-f24f-42a2-860a-9eb3fa5f6d10",
   "metadata": {},
   "outputs": [
    {
     "data": {
      "text/plain": [
       "array([ 2.,  7., 12., 17.])"
      ]
     },
     "execution_count": 46,
     "metadata": {},
     "output_type": "execute_result"
    }
   ],
   "source": [
    "fg"
   ]
  },
  {
   "cell_type": "code",
   "execution_count": 47,
   "id": "c9f31778-7a85-4d64-ac9f-e1dd4246e49f",
   "metadata": {},
   "outputs": [],
   "source": [
    "# ques5\n",
    "# Generate a 5x5 NumPy array with random integers between 1 and 10. Replace all values above 5 with 0 and all values below 5 with 1."
   ]
  },
  {
   "cell_type": "code",
   "execution_count": 54,
   "id": "f5408b48-08b8-49ec-99f3-4521379815cc",
   "metadata": {},
   "outputs": [],
   "source": [
    "df=np.random.randint(1,10,(5,5))"
   ]
  },
  {
   "cell_type": "code",
   "execution_count": 55,
   "id": "534e4aed-1032-421e-a3ae-03440ff4224c",
   "metadata": {},
   "outputs": [
    {
     "data": {
      "text/plain": [
       "array([[5, 9, 4, 9, 4],\n",
       "       [5, 1, 8, 3, 2],\n",
       "       [5, 1, 3, 8, 2],\n",
       "       [2, 6, 5, 4, 3],\n",
       "       [9, 6, 2, 5, 1]])"
      ]
     },
     "execution_count": 55,
     "metadata": {},
     "output_type": "execute_result"
    }
   ],
   "source": [
    "df"
   ]
  },
  {
   "cell_type": "code",
   "execution_count": 57,
   "id": "6497b2b6-2c74-4c45-a8df-30e6514702f1",
   "metadata": {},
   "outputs": [
    {
     "data": {
      "text/plain": [
       "array([[0, 0, 1, 0, 1],\n",
       "       [0, 1, 0, 1, 1],\n",
       "       [0, 1, 1, 0, 1],\n",
       "       [1, 0, 0, 1, 1],\n",
       "       [0, 0, 1, 0, 1]])"
      ]
     },
     "execution_count": 57,
     "metadata": {},
     "output_type": "execute_result"
    }
   ],
   "source": [
    "np.where(df>=5,0,1)"
   ]
  },
  {
   "cell_type": "code",
   "execution_count": 58,
   "id": "65ab44fb-53ac-4ea1-90c7-bce4480400bc",
   "metadata": {},
   "outputs": [],
   "source": [
    "# ques6\n",
    "# Create a NumPy array with the elements [\"red\", \"green\", \"blue\"] and then count the occurrences of each unique element."
   ]
  },
  {
   "cell_type": "code",
   "execution_count": 67,
   "id": "edc55b7c-0db4-4cde-9e9a-91c0cd1d0787",
   "metadata": {},
   "outputs": [],
   "source": [
    "kl=np.array([\"blue\",\"red\", \"green\", \"blue\",\"red\",\"blue\",\"green\",\"blue\",\"red\",\"green\"])"
   ]
  },
  {
   "cell_type": "code",
   "execution_count": 68,
   "id": "beee6e85-7545-4050-bb2b-545811a4d9ce",
   "metadata": {},
   "outputs": [
    {
     "data": {
      "text/plain": [
       "array(['blue', 'red', 'green', 'blue', 'red', 'blue', 'green', 'blue',\n",
       "       'red', 'green'], dtype='<U5')"
      ]
     },
     "execution_count": 68,
     "metadata": {},
     "output_type": "execute_result"
    }
   ],
   "source": [
    "kl"
   ]
  },
  {
   "cell_type": "code",
   "execution_count": 69,
   "id": "28485cfd-2965-4d22-9203-a2ec7a8825ac",
   "metadata": {},
   "outputs": [
    {
     "data": {
      "text/plain": [
       "(array(['blue', 'green', 'red'], dtype='<U5'), array([4, 3, 3]))"
      ]
     },
     "execution_count": 69,
     "metadata": {},
     "output_type": "execute_result"
    }
   ],
   "source": [
    "np.unique(kl,return_counts=True)"
   ]
  },
  {
   "cell_type": "code",
   "execution_count": null,
   "id": "4d4a7665-4e81-485d-95ed-4d629479c38a",
   "metadata": {},
   "outputs": [],
   "source": [
    "# another way"
   ]
  },
  {
   "cell_type": "code",
   "execution_count": 70,
   "id": "b58b8558-e5b7-4512-a034-fbb20768fe24",
   "metadata": {},
   "outputs": [],
   "source": [
    "j=np.array(['r','e','d','g','r','e','e','n','b','l','u','e'])"
   ]
  },
  {
   "cell_type": "code",
   "execution_count": 71,
   "id": "ca2a7fb1-069c-49ec-9869-0f7de78edfef",
   "metadata": {},
   "outputs": [
    {
     "data": {
      "text/plain": [
       "array(['r', 'e', 'd', 'g', 'r', 'e', 'e', 'n', 'b', 'l', 'u', 'e'],\n",
       "      dtype='<U1')"
      ]
     },
     "execution_count": 71,
     "metadata": {},
     "output_type": "execute_result"
    }
   ],
   "source": [
    "j"
   ]
  },
  {
   "cell_type": "code",
   "execution_count": 72,
   "id": "efb4da62-244c-41de-afea-2407a8d66288",
   "metadata": {},
   "outputs": [
    {
     "data": {
      "text/plain": [
       "(array(['b', 'd', 'e', 'g', 'l', 'n', 'r', 'u'], dtype='<U1'),\n",
       " array([1, 1, 4, 1, 1, 1, 2, 1]))"
      ]
     },
     "execution_count": 72,
     "metadata": {},
     "output_type": "execute_result"
    }
   ],
   "source": [
    "np.unique(j,return_counts=True)"
   ]
  },
  {
   "cell_type": "code",
   "execution_count": 74,
   "id": "c2a5f449-92a4-4b36-ac7e-a2f59fe5d735",
   "metadata": {},
   "outputs": [],
   "source": [
    "# ques 7\n",
    "# Define a NumPy array containing the numbers 1 through 16 and reshape it into a 4x4 array. Extract the diagonal elements and compute their product."
   ]
  },
  {
   "cell_type": "code",
   "execution_count": 2,
   "id": "eda10133-de8f-48b0-becf-d25c96a0180a",
   "metadata": {},
   "outputs": [],
   "source": [
    "s=np.arange(1,17)"
   ]
  },
  {
   "cell_type": "code",
   "execution_count": 3,
   "id": "4f23fc02-c1b3-4111-a5e1-38de9d66a912",
   "metadata": {},
   "outputs": [
    {
     "data": {
      "text/plain": [
       "array([ 1,  2,  3,  4,  5,  6,  7,  8,  9, 10, 11, 12, 13, 14, 15, 16])"
      ]
     },
     "execution_count": 3,
     "metadata": {},
     "output_type": "execute_result"
    }
   ],
   "source": [
    "s"
   ]
  },
  {
   "cell_type": "code",
   "execution_count": 4,
   "id": "28e863fb-f5c9-4e0f-a855-16a20a047682",
   "metadata": {},
   "outputs": [],
   "source": [
    "u=np.reshape(s,(4,4))"
   ]
  },
  {
   "cell_type": "code",
   "execution_count": 5,
   "id": "d9e2ef60-ea1d-4fd1-b623-66262f621499",
   "metadata": {},
   "outputs": [
    {
     "data": {
      "text/plain": [
       "array([[ 1,  2,  3,  4],\n",
       "       [ 5,  6,  7,  8],\n",
       "       [ 9, 10, 11, 12],\n",
       "       [13, 14, 15, 16]])"
      ]
     },
     "execution_count": 5,
     "metadata": {},
     "output_type": "execute_result"
    }
   ],
   "source": [
    "u"
   ]
  },
  {
   "cell_type": "code",
   "execution_count": 6,
   "id": "bfb801ae-5a65-4cea-9a58-82edff9b1691",
   "metadata": {},
   "outputs": [],
   "source": [
    "t=np.diag(u)"
   ]
  },
  {
   "cell_type": "code",
   "execution_count": 7,
   "id": "a2d3910d-ff2f-4f51-93c0-3c119a20f577",
   "metadata": {},
   "outputs": [
    {
     "data": {
      "text/plain": [
       "array([ 1,  6, 11, 16])"
      ]
     },
     "execution_count": 7,
     "metadata": {},
     "output_type": "execute_result"
    }
   ],
   "source": [
    "t"
   ]
  },
  {
   "cell_type": "code",
   "execution_count": 8,
   "id": "a32ca88b-86d0-4915-b811-1242774937f8",
   "metadata": {},
   "outputs": [
    {
     "data": {
      "text/plain": [
       "1056"
      ]
     },
     "execution_count": 8,
     "metadata": {},
     "output_type": "execute_result"
    }
   ],
   "source": [
    "np.prod(t)"
   ]
  },
  {
   "cell_type": "code",
   "execution_count": 99,
   "id": "264b6107-4e1b-452e-9d85-3b7e8a1150de",
   "metadata": {},
   "outputs": [],
   "source": [
    "# ques 8\n",
    "# Generate a 3x3 NumPy array with random floating-point numbers between -1 and 1. Compute the absolute value of each element."
   ]
  },
  {
   "cell_type": "code",
   "execution_count": 111,
   "id": "c151c244-2294-4871-99cd-fe43e5fb45f1",
   "metadata": {},
   "outputs": [],
   "source": [
    "ax=np.random.uniform(-1,1,(3,3))"
   ]
  },
  {
   "cell_type": "code",
   "execution_count": 112,
   "id": "00466bdf-d1ca-4504-a024-2932e7fd480c",
   "metadata": {},
   "outputs": [
    {
     "data": {
      "text/plain": [
       "array([[-0.40679214,  0.8824197 , -0.60139403],\n",
       "       [ 0.98960837, -0.34764411, -0.34877301],\n",
       "       [-0.80618785,  0.0586424 , -0.88429619]])"
      ]
     },
     "execution_count": 112,
     "metadata": {},
     "output_type": "execute_result"
    }
   ],
   "source": [
    "ax"
   ]
  },
  {
   "cell_type": "code",
   "execution_count": 117,
   "id": "69bf0e6e-80ac-4fc3-9121-62ae0f71f901",
   "metadata": {},
   "outputs": [
    {
     "data": {
      "text/plain": [
       "array([[0.40679214, 0.8824197 , 0.60139403],\n",
       "       [0.98960837, 0.34764411, 0.34877301],\n",
       "       [0.80618785, 0.0586424 , 0.88429619]])"
      ]
     },
     "execution_count": 117,
     "metadata": {},
     "output_type": "execute_result"
    }
   ],
   "source": [
    "np.absolute(ax)"
   ]
  },
  {
   "cell_type": "code",
   "execution_count": 133,
   "id": "600bda7c-99b8-415b-889b-73d295767477",
   "metadata": {},
   "outputs": [],
   "source": [
    "# ques 9\n",
    "# Create a NumPy array with the elements [\"apple\", \"banana\", \"cherry\"] and then sort them alphabetically in descending order."
   ]
  },
  {
   "cell_type": "code",
   "execution_count": 134,
   "id": "21f5869d-019e-4456-8921-47ab2852fb82",
   "metadata": {},
   "outputs": [],
   "source": [
    "sd=np.array([\"apple\", \"banana\", \"grapes\",\"dates\",\"pineapple\",\"cherry\"])"
   ]
  },
  {
   "cell_type": "code",
   "execution_count": 140,
   "id": "311b426e-f99a-4560-a2d1-8024577df160",
   "metadata": {},
   "outputs": [],
   "source": [
    "sd[::-1].sort()"
   ]
  },
  {
   "cell_type": "code",
   "execution_count": 141,
   "id": "71d1a824-38a7-4aa0-85a8-25ea56d4f7d0",
   "metadata": {},
   "outputs": [
    {
     "data": {
      "text/plain": [
       "array(['pineapple', 'grapes', 'dates', 'cherry', 'banana', 'apple'],\n",
       "      dtype='<U9')"
      ]
     },
     "execution_count": 141,
     "metadata": {},
     "output_type": "execute_result"
    }
   ],
   "source": [
    "sd"
   ]
  },
  {
   "cell_type": "code",
   "execution_count": 142,
   "id": "dc79f8de-c2df-47cc-8052-93a0d9597912",
   "metadata": {},
   "outputs": [
    {
     "data": {
      "text/plain": [
       "array(['apple', 'banana', 'cherry', 'dates', 'grapes', 'pineapple'],\n",
       "      dtype='<U9')"
      ]
     },
     "execution_count": 142,
     "metadata": {},
     "output_type": "execute_result"
    }
   ],
   "source": [
    "sd[::-1]"
   ]
  },
  {
   "cell_type": "code",
   "execution_count": 143,
   "id": "969196fa-4c12-4575-b263-6941a931b3de",
   "metadata": {},
   "outputs": [],
   "source": [
    "# ques 10\n",
    "# Define a NumPy array containing the numbers 1 through 25 and reshape it into a 5x5 array. Compute the sum of the diagonal elements."
   ]
  },
  {
   "cell_type": "code",
   "execution_count": 150,
   "id": "adc8b48d-a50b-4f38-ad8c-8228e378c4f0",
   "metadata": {},
   "outputs": [],
   "source": [
    "sf=np.arange(1,26)"
   ]
  },
  {
   "cell_type": "code",
   "execution_count": 151,
   "id": "291a26be-6be0-412a-b804-71d962381235",
   "metadata": {},
   "outputs": [
    {
     "data": {
      "text/plain": [
       "array([ 1,  2,  3,  4,  5,  6,  7,  8,  9, 10, 11, 12, 13, 14, 15, 16, 17,\n",
       "       18, 19, 20, 21, 22, 23, 24, 25])"
      ]
     },
     "execution_count": 151,
     "metadata": {},
     "output_type": "execute_result"
    }
   ],
   "source": [
    "sf"
   ]
  },
  {
   "cell_type": "code",
   "execution_count": 152,
   "id": "9fcfb511-d9fe-4b99-b3ff-94d8f1a0799a",
   "metadata": {},
   "outputs": [],
   "source": [
    "a=np.reshape(sf,(5,5))"
   ]
  },
  {
   "cell_type": "code",
   "execution_count": 154,
   "id": "0d01abcd-5eaa-440b-99df-86cb6b8e50bc",
   "metadata": {},
   "outputs": [
    {
     "data": {
      "text/plain": [
       "array([[ 1,  2,  3,  4,  5],\n",
       "       [ 6,  7,  8,  9, 10],\n",
       "       [11, 12, 13, 14, 15],\n",
       "       [16, 17, 18, 19, 20],\n",
       "       [21, 22, 23, 24, 25]])"
      ]
     },
     "execution_count": 154,
     "metadata": {},
     "output_type": "execute_result"
    }
   ],
   "source": [
    "a"
   ]
  },
  {
   "cell_type": "code",
   "execution_count": 155,
   "id": "5a2ca169-b8d6-451d-9324-abb3acafc242",
   "metadata": {},
   "outputs": [
    {
     "data": {
      "text/plain": [
       "65"
      ]
     },
     "execution_count": 155,
     "metadata": {},
     "output_type": "execute_result"
    }
   ],
   "source": [
    "sum(np.diag(a))"
   ]
  },
  {
   "cell_type": "code",
   "execution_count": 156,
   "id": "d4eb0df1-bf80-4b27-a6b2-3ae35322a1af",
   "metadata": {},
   "outputs": [],
   "source": [
    "# ques 11\n",
    "# Generate a 6x6 NumPy array with random integers between 0 and 100. Find the maximum value in each row and replace it with the string \"MAX\"."
   ]
  },
  {
   "cell_type": "code",
   "execution_count": 167,
   "id": "f8adb5ee-1f47-4be1-8bd9-f8c0d6f3af0c",
   "metadata": {},
   "outputs": [],
   "source": [
    "s=np.random.randint(0,100,(6,6))"
   ]
  },
  {
   "cell_type": "code",
   "execution_count": 239,
   "id": "50bcef22-35e4-4834-a335-a971f7a0b015",
   "metadata": {},
   "outputs": [
    {
     "data": {
      "text/plain": [
       "array([[89, 82, 35,  4, 95, 97],\n",
       "       [57, 25, 55, 39, 55, 75],\n",
       "       [77, 68, 19, 70, 84, 66],\n",
       "       [38, 76, 53, 11, 58,  0],\n",
       "       [68, 14, 77, 53, 79, 98],\n",
       "       [ 6, 11, 39, 35, 65, 10]])"
      ]
     },
     "execution_count": 239,
     "metadata": {},
     "output_type": "execute_result"
    }
   ],
   "source": [
    "s"
   ]
  },
  {
   "cell_type": "code",
   "execution_count": 272,
   "id": "d9846b2a-6926-47c4-a428-0c7f4a8e0614",
   "metadata": {},
   "outputs": [
    {
     "data": {
      "text/plain": [
       "array([97, 75, 84, 76, 98, 65])"
      ]
     },
     "execution_count": 272,
     "metadata": {},
     "output_type": "execute_result"
    }
   ],
   "source": [
    "e=np.max(s,axis=1)\n",
    "e"
   ]
  },
  {
   "cell_type": "code",
   "execution_count": 273,
   "id": "7060d991-2aef-4daa-9ea9-ef027ff6d9ea",
   "metadata": {},
   "outputs": [],
   "source": [
    "em=np.array([])"
   ]
  },
  {
   "cell_type": "code",
   "execution_count": 274,
   "id": "bd103f7b-0dd1-495d-999b-653cd4b6b20b",
   "metadata": {},
   "outputs": [
    {
     "data": {
      "text/plain": [
       "array([ 5, 11, 16, 19, 29, 34])"
      ]
     },
     "execution_count": 274,
     "metadata": {},
     "output_type": "execute_result"
    }
   ],
   "source": [
    "oneD=s.reshape(-1)\n",
    "for i in e:\n",
    "    ind=np.where(oneD==i)\n",
    "    em=np.append(em,ind)\n",
    "\n",
    "em=np.int_(em)\n",
    "em"
   ]
  },
  {
   "cell_type": "code",
   "execution_count": null,
   "id": "0818b01e-a5c7-4642-b30c-8c554d3087c8",
   "metadata": {},
   "outputs": [],
   "source": []
  },
  {
   "cell_type": "code",
   "execution_count": null,
   "id": "acffccb5-8de8-4664-af85-631c75e624f2",
   "metadata": {},
   "outputs": [],
   "source": []
  },
  {
   "cell_type": "code",
   "execution_count": 275,
   "id": "0938c31f-d336-4063-9410-036972e28e58",
   "metadata": {},
   "outputs": [],
   "source": [
    "t=np.where((s==np.max(s,axis=1)),'MAX',s)"
   ]
  },
  {
   "cell_type": "code",
   "execution_count": 276,
   "id": "c07fe0b9-c6fb-4339-9a5b-c1d7c10b5f36",
   "metadata": {},
   "outputs": [
    {
     "data": {
      "text/plain": [
       "array([['89', '82', '35', '4', '95', '97'],\n",
       "       ['57', '25', '55', '39', '55', '75'],\n",
       "       ['77', '68', '19', '70', '84', '66'],\n",
       "       ['38', '76', '53', '11', '58', '0'],\n",
       "       ['68', '14', '77', '53', '79', '98'],\n",
       "       ['6', '11', '39', '35', '65', '10']], dtype='<U21')"
      ]
     },
     "execution_count": 276,
     "metadata": {},
     "output_type": "execute_result"
    }
   ],
   "source": [
    "t"
   ]
  },
  {
   "cell_type": "code",
   "execution_count": 277,
   "id": "e9f362a9-6d01-438a-8a34-deae7704ea3a",
   "metadata": {},
   "outputs": [
    {
     "data": {
      "text/plain": [
       "array(['89', '82', '35', '4', '95', '97', '57', '25', '55', '39', '55',\n",
       "       '75', '77', '68', '19', '70', '84', '66', '38', '76', '53', '11',\n",
       "       '58', '0', '68', '14', '77', '53', '79', '98', '6', '11', '39',\n",
       "       '35', '65', '10'], dtype='<U21')"
      ]
     },
     "execution_count": 277,
     "metadata": {},
     "output_type": "execute_result"
    }
   ],
   "source": [
    "new=t.reshape(-1)\n",
    "new"
   ]
  },
  {
   "cell_type": "code",
   "execution_count": 278,
   "id": "76fd6be3-f715-4024-aa30-d25b4a4ddea6",
   "metadata": {},
   "outputs": [],
   "source": [
    "new[[em]]='MAX'"
   ]
  },
  {
   "cell_type": "code",
   "execution_count": 279,
   "id": "04d75dd8-5dbd-420a-b9f6-9ae8e6811ba4",
   "metadata": {},
   "outputs": [
    {
     "data": {
      "text/plain": [
       "array([['89', '82', '35', '4', '95', 'MAX'],\n",
       "       ['57', '25', '55', '39', '55', 'MAX'],\n",
       "       ['77', '68', '19', '70', 'MAX', '66'],\n",
       "       ['38', 'MAX', '53', '11', '58', '0'],\n",
       "       ['68', '14', '77', '53', '79', 'MAX'],\n",
       "       ['6', '11', '39', '35', 'MAX', '10']], dtype='<U21')"
      ]
     },
     "execution_count": 279,
     "metadata": {},
     "output_type": "execute_result"
    }
   ],
   "source": [
    "new.reshape(6,6)"
   ]
  },
  {
   "cell_type": "code",
   "execution_count": 2,
   "id": "5261ce2a-421a-415b-8c6f-000525ff27c9",
   "metadata": {},
   "outputs": [],
   "source": [
    "# ques 11 another way\n",
    "# Generate a 6x6 NumPy array with random integers between 0 and 100. Find the maximum value in each row and replace it with the string \"MAX\"."
   ]
  },
  {
   "cell_type": "code",
   "execution_count": 319,
   "id": "d428bd7d-1013-4a29-809d-2bc982f10713",
   "metadata": {},
   "outputs": [
    {
     "data": {
      "text/plain": [
       "array([[68, 19, 69, 33, 55, 92],\n",
       "       [33, 58, 49, 68, 70, 58],\n",
       "       [55, 10, 15, 76, 52, 40],\n",
       "       [72, 18, 67, 51, 51,  5],\n",
       "       [47,  2, 13,  9, 37, 54],\n",
       "       [ 0, 79, 21,  5, 41, 86]])"
      ]
     },
     "execution_count": 319,
     "metadata": {},
     "output_type": "execute_result"
    }
   ],
   "source": [
    "q=np.random.randint(0,100,(6,6))\n",
    "q"
   ]
  },
  {
   "cell_type": "code",
   "execution_count": 320,
   "id": "f556e3db-83b0-4214-9e44-64607e5c83c8",
   "metadata": {},
   "outputs": [
    {
     "data": {
      "text/plain": [
       "array([92, 70, 76, 72, 54, 86])"
      ]
     },
     "execution_count": 320,
     "metadata": {},
     "output_type": "execute_result"
    }
   ],
   "source": [
    "r=np.max(q,axis=1)\n",
    "r"
   ]
  },
  {
   "cell_type": "code",
   "execution_count": 328,
   "id": "6fab7fad-e942-4325-a1f8-9ece6f0227cf",
   "metadata": {},
   "outputs": [
    {
     "name": "stdout",
     "output_type": "stream",
     "text": [
      "Original array\n",
      " [[68 19 69 33 55 92]\n",
      " [33 58 49 68 70 58]\n",
      " [55 10 15 76 52 40]\n",
      " [72 18 67 51 51  5]\n",
      " [47  2 13  9 37 54]\n",
      " [ 0 79 21  5 41 86]] \n",
      "\n",
      "converted array\n",
      " [['68' '19' '69' '33' '55' 'MAX']\n",
      " ['33' '58' '49' '68' 'MAX' '58']\n",
      " ['55' '10' '15' 'MAX' '52' '40']\n",
      " ['MAX' '18' '67' '51' '51' '5']\n",
      " ['47' '2' '13' '9' '37' 'MAX']\n",
      " ['0' '79' '21' '5' '41' 'MAX']]\n"
     ]
    }
   ],
   "source": [
    "s=[]\n",
    "for i in range(6):\n",
    "    s.append(np.where((q[i]==r[i]),'MAX',q[i]))\n",
    "    t=np.concatenate(s) \n",
    "    # t=np.vstack(s) \n",
    "u=np.reshape(t,(6,6))\n",
    "print(\"Original array\\n\",q,\"\\n\\nconverted array\\n\",u)\n",
    "# print(\"Original array\\n\",q,\"\\n\\nconverted array\\n\",t)\n",
    "\n",
    "    "
   ]
  },
  {
   "cell_type": "code",
   "execution_count": 266,
   "id": "c9bf5a41-1e24-4374-abe9-e25d1617873b",
   "metadata": {},
   "outputs": [],
   "source": [
    "# ques 12\n",
    "# Create a NumPy array with the elements [\"cat\", \"dog\", \"bird\", \"cat\", \"dog\", \"fish\"] and then count the occurrences of each unique element."
   ]
  },
  {
   "cell_type": "code",
   "execution_count": 268,
   "id": "0f3e517c-8360-4b9f-a19f-dcf7b7f385e9",
   "metadata": {},
   "outputs": [
    {
     "data": {
      "text/plain": [
       "array(['cat', 'dog', 'bird', 'cat', 'dog', 'fish'], dtype='<U4')"
      ]
     },
     "execution_count": 268,
     "metadata": {},
     "output_type": "execute_result"
    }
   ],
   "source": [
    "r=np.array([\"cat\", \"dog\", \"bird\", \"cat\", \"dog\", \"fish\"])\n",
    "r"
   ]
  },
  {
   "cell_type": "code",
   "execution_count": 271,
   "id": "679266a8-e393-49fb-99ca-29c6e74bca8b",
   "metadata": {},
   "outputs": [
    {
     "data": {
      "text/plain": [
       "(array(['bird', 'cat', 'dog', 'fish'], dtype='<U4'), array([1, 2, 2, 1]))"
      ]
     },
     "execution_count": 271,
     "metadata": {},
     "output_type": "execute_result"
    }
   ],
   "source": [
    "t=np.unique(r,return_counts=True)\n",
    "t"
   ]
  },
  {
   "cell_type": "code",
   "execution_count": 272,
   "id": "84e2f429-b91c-4c8e-85e1-f2ff68436299",
   "metadata": {},
   "outputs": [],
   "source": [
    "# ques 13\n",
    "# Define a NumPy array containing the numbers 1 through 12 and reshape it into a 3x4 array. Calculate the standard deviation of each column."
   ]
  },
  {
   "cell_type": "code",
   "execution_count": 289,
   "id": "9ecd90c2-3f56-48e2-8d84-18dfee6ae540",
   "metadata": {},
   "outputs": [
    {
     "data": {
      "text/plain": [
       "array([[ 1,  2,  3,  4],\n",
       "       [ 5,  6,  7,  8],\n",
       "       [ 9, 10, 11, 12]])"
      ]
     },
     "execution_count": 289,
     "metadata": {},
     "output_type": "execute_result"
    }
   ],
   "source": [
    "s=np.arange(1,13)\n",
    "t=np.reshape(s,(3,4))\n",
    "t"
   ]
  },
  {
   "cell_type": "code",
   "execution_count": 292,
   "id": "34dcfb11-cd2a-490c-b969-b594d39d92f1",
   "metadata": {},
   "outputs": [
    {
     "data": {
      "text/plain": [
       "array([1.11803399, 1.11803399, 1.11803399])"
      ]
     },
     "execution_count": 292,
     "metadata": {},
     "output_type": "execute_result"
    }
   ],
   "source": [
    "np.std(t,axis=1)"
   ]
  },
  {
   "cell_type": "code",
   "execution_count": 293,
   "id": "8cfa7814-d7f6-4973-8403-b70712a7f05b",
   "metadata": {},
   "outputs": [],
   "source": [
    "# ques 14\n",
    "# Generate a 4x4 NumPy array with random integers between -50 and 50. Replace all negative values with 0 and all positive values with 1."
   ]
  },
  {
   "cell_type": "code",
   "execution_count": 303,
   "id": "7f1586bb-5e52-4b23-a4e6-dbc2b0cc5e3c",
   "metadata": {},
   "outputs": [
    {
     "data": {
      "text/plain": [
       "array([[-43, -29, -49,  33],\n",
       "       [ 24, -32,  44,  36],\n",
       "       [-49,  48,  26,  44],\n",
       "       [-48,  12, -46,  42]])"
      ]
     },
     "execution_count": 303,
     "metadata": {},
     "output_type": "execute_result"
    }
   ],
   "source": [
    "e=np.random.randint(-50,50,(4,4))\n",
    "e"
   ]
  },
  {
   "cell_type": "code",
   "execution_count": 304,
   "id": "e9e0da0f-a506-4ed7-a2b3-516533991716",
   "metadata": {},
   "outputs": [
    {
     "data": {
      "text/plain": [
       "array([[0, 0, 0, 1],\n",
       "       [1, 0, 1, 1],\n",
       "       [0, 1, 1, 1],\n",
       "       [0, 1, 0, 1]])"
      ]
     },
     "execution_count": 304,
     "metadata": {},
     "output_type": "execute_result"
    }
   ],
   "source": [
    "s=np.where(e<0,0,1)\n",
    "s"
   ]
  },
  {
   "cell_type": "code",
   "execution_count": 305,
   "id": "abdfa625-9f64-4fa5-a2e7-889e74c519e4",
   "metadata": {},
   "outputs": [],
   "source": [
    "# ques 15\n",
    "# Create a NumPy array with the elements [\"apple\", \"banana\", \"cherry\", \"apple\", \"banana\"]. Remove duplicates from the array."
   ]
  },
  {
   "cell_type": "code",
   "execution_count": 331,
   "id": "2571f754-5633-47d0-aa44-cb3d75a4ff5c",
   "metadata": {},
   "outputs": [
    {
     "data": {
      "text/plain": [
       "array(['apple', 'banana', 'cherry'], dtype='<U6')"
      ]
     },
     "execution_count": 331,
     "metadata": {},
     "output_type": "execute_result"
    }
   ],
   "source": [
    "d=np.array([\"apple\", \"banana\", \"cherry\", \"apple\", \"banana\"])\n",
    "r=np.unique(d)\n",
    "r"
   ]
  },
  {
   "cell_type": "code",
   "execution_count": 332,
   "id": "2373ca12-c290-48d3-98ea-df6d03fc34c5",
   "metadata": {},
   "outputs": [],
   "source": [
    "# ques 16\n",
    "# Define a NumPy array containing the numbers 1 through 16 and reshape it into a 4x4 array. Extract the elements in the last column."
   ]
  },
  {
   "cell_type": "code",
   "execution_count": 334,
   "id": "5ae037da-0ce9-4387-8d5b-224412716b14",
   "metadata": {},
   "outputs": [
    {
     "data": {
      "text/plain": [
       "array([ 1,  2,  3,  4,  5,  6,  7,  8,  9, 10, 11, 12, 13, 14, 15, 16])"
      ]
     },
     "execution_count": 334,
     "metadata": {},
     "output_type": "execute_result"
    }
   ],
   "source": [
    "g=np.arange(1,17)\n",
    "g"
   ]
  },
  {
   "cell_type": "code",
   "execution_count": 336,
   "id": "beb8d205-3f28-456d-9f25-bab59cc229d8",
   "metadata": {},
   "outputs": [
    {
     "data": {
      "text/plain": [
       "array([[ 1,  2,  3,  4],\n",
       "       [ 5,  6,  7,  8],\n",
       "       [ 9, 10, 11, 12],\n",
       "       [13, 14, 15, 16]])"
      ]
     },
     "execution_count": 336,
     "metadata": {},
     "output_type": "execute_result"
    }
   ],
   "source": [
    "t=np.reshape(g,(4,4))\n",
    "t"
   ]
  },
  {
   "cell_type": "code",
   "execution_count": 361,
   "id": "b4af5617-94bf-4e20-a695-7a6b8f0a16ac",
   "metadata": {},
   "outputs": [
    {
     "data": {
      "text/plain": [
       "array([ 4,  8, 12, 16])"
      ]
     },
     "execution_count": 361,
     "metadata": {},
     "output_type": "execute_result"
    }
   ],
   "source": [
    "# help(np.extract)\n",
    "# np.extract(t%4==0,t)\n",
    "t[: ,-1]"
   ]
  },
  {
   "cell_type": "code",
   "execution_count": 362,
   "id": "955ad6a1-dac1-42b7-8454-b52b3661682c",
   "metadata": {},
   "outputs": [],
   "source": [
    "# ques 17\n",
    "# Generate a 5x5 NumPy array with random floating-point numbers between 0 and 1. Round each element to the nearest integer."
   ]
  },
  {
   "cell_type": "code",
   "execution_count": 372,
   "id": "fd5eb62b-e55d-45b5-b4ca-da9ec9e4ce71",
   "metadata": {},
   "outputs": [
    {
     "data": {
      "text/plain": [
       "array([[0.98500831, 0.53418788, 0.10191145, 0.54495089, 0.28686865],\n",
       "       [0.58546934, 0.57306306, 0.01487529, 0.41331528, 0.20409672],\n",
       "       [0.05891259, 0.92599861, 0.43507031, 0.85221569, 0.08301429],\n",
       "       [0.38369296, 0.63147026, 0.88789966, 0.31313108, 0.56620481],\n",
       "       [0.23191601, 0.13675623, 0.84441338, 0.7092526 , 0.54830119]])"
      ]
     },
     "execution_count": 372,
     "metadata": {},
     "output_type": "execute_result"
    }
   ],
   "source": [
    "e=np.random.rand(5,5)\n",
    "e"
   ]
  },
  {
   "cell_type": "code",
   "execution_count": 373,
   "id": "23671d6b-7f05-4b2c-8664-31d1b7a0c799",
   "metadata": {},
   "outputs": [
    {
     "data": {
      "text/plain": [
       "array([[1., 1., 0., 1., 0.],\n",
       "       [1., 1., 0., 0., 0.],\n",
       "       [0., 1., 0., 1., 0.],\n",
       "       [0., 1., 1., 0., 1.],\n",
       "       [0., 0., 1., 1., 1.]])"
      ]
     },
     "execution_count": 373,
     "metadata": {},
     "output_type": "execute_result"
    }
   ],
   "source": [
    "np.round(e)"
   ]
  },
  {
   "cell_type": "code",
   "execution_count": 375,
   "id": "5726c77b-104a-452a-acc0-f0ac2b66ccf2",
   "metadata": {},
   "outputs": [],
   "source": [
    "# ques 18\n",
    "# Create a NumPy array with the elements [\"red\", \"green\", \"blue\", \"red\", \"green\", \"blue\"]. Replace \"red\" with \"orange\"."
   ]
  },
  {
   "cell_type": "code",
   "execution_count": 401,
   "id": "a5345894-fe7b-43bf-8491-087ab73be8da",
   "metadata": {},
   "outputs": [
    {
     "data": {
      "text/plain": [
       "array(['red', 'green', 'blue', 'red', 'green', 'blue'], dtype='<U5')"
      ]
     },
     "execution_count": 401,
     "metadata": {},
     "output_type": "execute_result"
    }
   ],
   "source": [
    "x=np.array([\"red\", \"green\", \"blue\", \"red\", \"green\", \"blue\"])\n",
    "x"
   ]
  },
  {
   "cell_type": "code",
   "execution_count": 402,
   "id": "c7ae8fa6-4104-49bc-a16a-307e399a626e",
   "metadata": {},
   "outputs": [
    {
     "data": {
      "text/plain": [
       "array(['orang', 'green', 'blue', 'orang', 'green', 'blue'], dtype='<U5')"
      ]
     },
     "execution_count": 402,
     "metadata": {},
     "output_type": "execute_result"
    }
   ],
   "source": [
    "t=x[x==\"red\"]=\"orange\"\n",
    "x"
   ]
  },
  {
   "cell_type": "code",
   "execution_count": 409,
   "id": "3c0dd1ee-3a29-40da-ab0a-f9fdacb7bc8c",
   "metadata": {},
   "outputs": [
    {
     "data": {
      "text/plain": [
       "(array([0, 0]), array([2, 5]))"
      ]
     },
     "execution_count": 409,
     "metadata": {},
     "output_type": "execute_result"
    }
   ],
   "source": [
    "np.where([x==\"blue\"])"
   ]
  },
  {
   "cell_type": "code",
   "execution_count": 410,
   "id": "23c744a8-5941-48ea-bc57-29a8c1a61dfe",
   "metadata": {},
   "outputs": [],
   "source": [
    "# ques 19\n",
    "# Define a NumPy array containing the numbers 1 through 20 and reshape it into a 5x4 array. Compute the sum of each column."
   ]
  },
  {
   "cell_type": "code",
   "execution_count": 412,
   "id": "aa381c23-dba4-4d09-abd0-e09a6b2f3d97",
   "metadata": {},
   "outputs": [
    {
     "data": {
      "text/plain": [
       "array([ 1,  2,  3,  4,  5,  6,  7,  8,  9, 10, 11, 12, 13, 14, 15, 16, 17,\n",
       "       18, 19, 20])"
      ]
     },
     "execution_count": 412,
     "metadata": {},
     "output_type": "execute_result"
    }
   ],
   "source": [
    "r=np.arange(1,21)\n",
    "r"
   ]
  },
  {
   "cell_type": "code",
   "execution_count": 415,
   "id": "653ed25b-c8f4-4093-ae85-5e114305b9fb",
   "metadata": {},
   "outputs": [
    {
     "data": {
      "text/plain": [
       "array([[ 1,  2,  3,  4],\n",
       "       [ 5,  6,  7,  8],\n",
       "       [ 9, 10, 11, 12],\n",
       "       [13, 14, 15, 16],\n",
       "       [17, 18, 19, 20]])"
      ]
     },
     "execution_count": 415,
     "metadata": {},
     "output_type": "execute_result"
    }
   ],
   "source": [
    "y=np.reshape(r,(5,4))\n",
    "y"
   ]
  },
  {
   "cell_type": "code",
   "execution_count": 425,
   "id": "378797aa-af4a-4bb9-97a3-a8f86134022c",
   "metadata": {},
   "outputs": [
    {
     "data": {
      "text/plain": [
       "array([45, 50, 55, 60])"
      ]
     },
     "execution_count": 425,
     "metadata": {},
     "output_type": "execute_result"
    }
   ],
   "source": [
    "w=y.sum(axis=0)\n",
    "w"
   ]
  },
  {
   "cell_type": "code",
   "execution_count": 426,
   "id": "e451b250-68cc-4e2c-b81d-2dd8bc534411",
   "metadata": {},
   "outputs": [],
   "source": [
    "# ques 20\n",
    "# Generate a 3x3 NumPy array with random integers between 1 and 100. Find the index of the maximum value in the array."
   ]
  },
  {
   "cell_type": "code",
   "execution_count": 449,
   "id": "6a83e1d4-0b07-4457-93b7-d7db2f9accd7",
   "metadata": {},
   "outputs": [
    {
     "data": {
      "text/plain": [
       "array([[27, 87, 75],\n",
       "       [10, 41, 37],\n",
       "       [97, 69, 51]])"
      ]
     },
     "execution_count": 449,
     "metadata": {},
     "output_type": "execute_result"
    }
   ],
   "source": [
    "p=np.random.randint(1,100,(3,3))\n",
    "p"
   ]
  },
  {
   "cell_type": "code",
   "execution_count": 450,
   "id": "1a568a29-4622-411f-8051-a8bba346e219",
   "metadata": {},
   "outputs": [
    {
     "data": {
      "text/plain": [
       "97"
      ]
     },
     "execution_count": 450,
     "metadata": {},
     "output_type": "execute_result"
    }
   ],
   "source": [
    "c=np.max(p)\n",
    "c"
   ]
  },
  {
   "cell_type": "code",
   "execution_count": 451,
   "id": "e5868174-d99b-481f-a82d-fb5a6cfbbafc",
   "metadata": {},
   "outputs": [
    {
     "data": {
      "text/plain": [
       "(array([2]), array([0]))"
      ]
     },
     "execution_count": 451,
     "metadata": {},
     "output_type": "execute_result"
    }
   ],
   "source": [
    "np.where(p==c)"
   ]
  },
  {
   "cell_type": "code",
   "execution_count": 528,
   "id": "327d6466-9b43-4df1-903f-3cf7d7b2814b",
   "metadata": {},
   "outputs": [],
   "source": [
    "# ques 21 \n",
    "# genrate 100 elements in 2d ndarray\n",
    "# 10 rows 5 columns..\n",
    "# then in that ndarray the elements which are divisible by 2 put 0 instead of element and the elements which is not divisible by 2 put 1 instead of that element or if their is any element which is divisible by 2 and 3 both, put 2 instead of element."
   ]
  },
  {
   "cell_type": "code",
   "execution_count": 529,
   "id": "e4b19e38-9c8c-45f5-acda-3c8b7a12a4fb",
   "metadata": {},
   "outputs": [
    {
     "data": {
      "text/plain": [
       "array([[11, 82, 91, 94, 11],\n",
       "       [ 3, 37,  9, 36, 13],\n",
       "       [20,  0, 52, 77, 47],\n",
       "       [13, 58,  3, 54, 56],\n",
       "       [26, 70, 81, 40, 35],\n",
       "       [35, 50, 19, 95, 72],\n",
       "       [77, 39, 15, 92, 61],\n",
       "       [24,  8, 60, 44, 89],\n",
       "       [11, 43, 50, 72, 94],\n",
       "       [39, 27,  4, 22,  8]])"
      ]
     },
     "execution_count": 529,
     "metadata": {},
     "output_type": "execute_result"
    }
   ],
   "source": [
    "d=np.random.randint(0,100,(10,5))\n",
    "d"
   ]
  },
  {
   "cell_type": "code",
   "execution_count": 531,
   "id": "9dfa3134-d8f4-4418-b82f-cc8f06a475d3",
   "metadata": {},
   "outputs": [
    {
     "data": {
      "text/plain": [
       "array([[1, 0, 1, 0, 1],\n",
       "       [1, 1, 1, 2, 1],\n",
       "       [0, 2, 0, 1, 1],\n",
       "       [1, 0, 1, 2, 0],\n",
       "       [0, 0, 1, 0, 1],\n",
       "       [1, 0, 1, 1, 2],\n",
       "       [1, 1, 1, 0, 1],\n",
       "       [2, 0, 2, 0, 1],\n",
       "       [1, 1, 0, 2, 0],\n",
       "       [1, 1, 0, 0, 0]])"
      ]
     },
     "execution_count": 531,
     "metadata": {},
     "output_type": "execute_result"
    }
   ],
   "source": [
    "n=d.copy()\n",
    "n[(d%2==0) & (d%3==0)]=2\n",
    "n[(d%2==0) & (d%3!=0)]=0\n",
    "n[(d%2!=0)]=1\n",
    "n"
   ]
  },
  {
   "cell_type": "code",
   "execution_count": null,
   "id": "219214b4-e45f-4420-9552-1f065ecb1295",
   "metadata": {},
   "outputs": [],
   "source": []
  }
 ],
 "metadata": {
  "kernelspec": {
   "display_name": "Python 3 (ipykernel)",
   "language": "python",
   "name": "python3"
  },
  "language_info": {
   "codemirror_mode": {
    "name": "ipython",
    "version": 3
   },
   "file_extension": ".py",
   "mimetype": "text/x-python",
   "name": "python",
   "nbconvert_exporter": "python",
   "pygments_lexer": "ipython3",
   "version": "3.10.12"
  }
 },
 "nbformat": 4,
 "nbformat_minor": 5
}
